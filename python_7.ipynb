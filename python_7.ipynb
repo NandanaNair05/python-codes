{
  "nbformat": 4,
  "nbformat_minor": 0,
  "metadata": {
    "colab": {
      "provenance": [],
      "authorship_tag": "ABX9TyM0CFiP8LhBplmCLIVIRi4Q",
      "include_colab_link": true
    },
    "kernelspec": {
      "name": "python3",
      "display_name": "Python 3"
    },
    "language_info": {
      "name": "python"
    }
  },
  "cells": [
    {
      "cell_type": "markdown",
      "metadata": {
        "id": "view-in-github",
        "colab_type": "text"
      },
      "source": [
        "<a href=\"https://colab.research.google.com/github/NandanaNair05/python-codes/blob/main/python_7.ipynb\" target=\"_parent\"><img src=\"https://colab.research.google.com/assets/colab-badge.svg\" alt=\"Open In Colab\"/></a>"
      ]
    },
    {
      "cell_type": "code",
      "execution_count": 3,
      "metadata": {
        "colab": {
          "base_uri": "https://localhost:8080/"
        },
        "id": "wih_rigPy-sW",
        "outputId": "815ce217-5f43-4322-da02-5f386bdaf9d9"
      },
      "outputs": [
        {
          "output_type": "stream",
          "name": "stdout",
          "text": [
            "Coffee made successfully!\n",
            "Remaining water: 50\n"
          ]
        }
      ],
      "source": [
        "class coffeeMachine:\n",
        "    def __init__(self):\n",
        "        self.water = 100\n",
        "\n",
        "    def make_coffee(self):\n",
        "        if self.water >= 50:\n",
        "            self.water -= 50  # Assuming 50 units of water are needed for coffee\n",
        "            print(\"Coffee made successfully!\")\n",
        "        else:\n",
        "            print(\"Not enough water to make coffee\")\n",
        "\n",
        "machine = coffeeMachine()\n",
        "machine.make_coffee()\n",
        "print(f\"Remaining water: {machine.water}\")"
      ]
    },
    {
      "cell_type": "markdown",
      "source": [
        "bundling of date to single umit of data.\n",
        "data encasulation is opting a data ___.\n",
        "it keeps data safe and secure in particular class"
      ],
      "metadata": {
        "id": "Wb_yeKw63Jmr"
      }
    },
    {
      "cell_type": "code",
      "source": [
        "class BankAccount:\n",
        "    def __init__(self):\n",
        "        self.__balance = 0\n",
        "\n",
        "    def set_balance(self, balance):\n",
        "        self.__balance = balance\n",
        "\n",
        "    def get_balance(self):\n",
        "        return self.__balance\n",
        "\n",
        "account = BankAccount()\n",
        "account.set_balance(1000)\n",
        "print(\"Account balance:\", account.get_balance())"
      ],
      "metadata": {
        "colab": {
          "base_uri": "https://localhost:8080/"
        },
        "id": "alQxg2Mc3TOB",
        "outputId": "989c082e-58f4-4a8e-e304-4112dca27235"
      },
      "execution_count": 5,
      "outputs": [
        {
          "output_type": "stream",
          "name": "stdout",
          "text": [
            "Account balance: 1000\n"
          ]
        }
      ]
    },
    {
      "cell_type": "markdown",
      "source": [
        "# INHERITANCE"
      ],
      "metadata": {
        "id": "YZyvmhz36rS6"
      }
    },
    {
      "cell_type": "markdown",
      "source": [
        "SINGLE LEVEL"
      ],
      "metadata": {
        "id": "lMsN5BKr6xPI"
      }
    },
    {
      "cell_type": "code",
      "source": [
        "GRAND PARENT --> Parent -->child --> grandchild"
      ],
      "metadata": {
        "id": "kBs4iok_6toR"
      },
      "execution_count": null,
      "outputs": []
    },
    {
      "cell_type": "markdown",
      "source": [
        "# MULTILEVEL INHERITANCE"
      ],
      "metadata": {
        "id": "HaRh73zN-CMJ"
      }
    },
    {
      "cell_type": "code",
      "source": [
        "class Animal:\n",
        "    def move(self):\n",
        "       print(\"Animal Moves\")\n",
        "\n",
        "class Bird(Animal):\n",
        "    def fly(self):\n",
        "       print(\"blue flies\")\n",
        "\n",
        "class Parrot(Bird):\n",
        "    def talk(self):\n",
        "        print(\"Parrot Talks\")\n",
        "\n",
        "parrot_instance = Parrot()\n",
        "parrot_instance.move()\n",
        "parrot_instance.fly()\n",
        "parrot_instance.talk()"
      ],
      "metadata": {
        "colab": {
          "base_uri": "https://localhost:8080/"
        },
        "id": "mAMUiyKl6eRL",
        "outputId": "b9a2411e-99c5-4fda-f174-d8bbd812daaa"
      },
      "execution_count": 7,
      "outputs": [
        {
          "output_type": "stream",
          "name": "stdout",
          "text": [
            "Animal Moves\n",
            "blue flies\n",
            "Parrot Talks\n"
          ]
        }
      ]
    },
    {
      "cell_type": "markdown",
      "source": [
        "#SINGLELEVEL INHERITANCE"
      ],
      "metadata": {
        "id": "9SUnXtHg-Hqp"
      }
    },
    {
      "cell_type": "code",
      "source": [
        "class Car:\n",
        "    def __init__(self, make):\n",
        "        self.make = make\n",
        "\n",
        "    def drive(self):\n",
        "        print(f\"The {self.make} is driving.\")\n",
        "\n",
        "class ElectricCar(Car):\n",
        "    def __init__(self, make, battery_capacity):\n",
        "        super().__init__(make)\n",
        "        self.battery_capacity = battery_capacity\n",
        "\n",
        "    def charge_battery(self):\n",
        "        print(f\"The {self.make} is being charged.\")\n",
        "\n",
        "regular_car = Car(\"Toyota\")\n",
        "regular_car.drive()\n",
        "\n",
        "electric_car = ElectricCar(\"Tesla\", 75)\n",
        "electric_car.drive()\n",
        "electric_car.charge_battery()"
      ],
      "metadata": {
        "colab": {
          "base_uri": "https://localhost:8080/"
        },
        "id": "DNHEhEPX-MvI",
        "outputId": "43e46670-e00c-485e-960e-c02c4a2c3c18"
      },
      "execution_count": 8,
      "outputs": [
        {
          "output_type": "stream",
          "name": "stdout",
          "text": [
            "The Toyota is driving.\n",
            "The Tesla is driving.\n",
            "The Tesla is being charged.\n"
          ]
        }
      ]
    },
    {
      "cell_type": "markdown",
      "source": [
        "polymorphism"
      ],
      "metadata": {
        "id": "nsuEhsJwAOjy"
      }
    },
    {
      "cell_type": "code",
      "source": [],
      "metadata": {
        "id": "F1lnAf2bAJK6"
      },
      "execution_count": null,
      "outputs": []
    }
  ]
}