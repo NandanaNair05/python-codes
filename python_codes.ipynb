{
  "nbformat": 4,
  "nbformat_minor": 0,
  "metadata": {
    "colab": {
      "provenance": [],
      "authorship_tag": "ABX9TyMuJ56Fhyi323AlFY/szUTV",
      "include_colab_link": true
    },
    "kernelspec": {
      "name": "python3",
      "display_name": "Python 3"
    },
    "language_info": {
      "name": "python"
    }
  },
  "cells": [
    {
      "cell_type": "markdown",
      "metadata": {
        "id": "view-in-github",
        "colab_type": "text"
      },
      "source": [
        "<a href=\"https://colab.research.google.com/github/NandanaNair05/python-codes/blob/main/python_codes.ipynb\" target=\"_parent\"><img src=\"https://colab.research.google.com/assets/colab-badge.svg\" alt=\"Open In Colab\"/></a>"
      ]
    },
    {
      "cell_type": "markdown",
      "source": [
        "##VARIABLES AND DATATYPES"
      ],
      "metadata": {
        "id": "GCaHyN_UR9QS"
      }
    },
    {
      "cell_type": "code",
      "execution_count": null,
      "metadata": {
        "colab": {
          "base_uri": "https://localhost:8080/"
        },
        "id": "-xqLzH3XLBbl",
        "outputId": "bb3824fe-d291-452c-839e-0caef75832ff"
      },
      "outputs": [
        {
          "output_type": "stream",
          "name": "stdout",
          "text": [
            "6\n",
            "the sum of two variables is     : 11\n",
            "the differnece of two variables is: 1\n",
            "the product of two variables is: 30\n",
            "the quotient of two variables is: 0.2\n"
          ]
        }
      ],
      "source": [
        "import os #impoting os packages\n",
        "#get the current directory\n",
        "os.getcwd() #cwd stamds fpr current working directory\n",
        "os.chdir(\"/content/sample_data\")\n",
        "# assigning numbera\n",
        "x=6\n",
        "print(x)\n",
        "# addition\n",
        "A=x+5\n",
        "print(\"the sum of two variables is       :\",A)\n",
        "# subtraction\n",
        "B=x-5\n",
        "print(\"the differnece of two variables is:\",B)\n",
        "# multiplication\n",
        "C=x*5\n",
        "print(\"the product of two variables is   :\",C)\n",
        "# division\n",
        "D= x/30\n",
        "print(\"the quotient of two variables is:\",D)\n",
        "\n"
      ]
    },
    {
      "cell_type": "markdown",
      "source": [
        "##LISTS"
      ],
      "metadata": {
        "id": "cPlvIXQiUlmy"
      }
    },
    {
      "cell_type": "code",
      "source": [
        "a = 'hello'\n",
        "b = 'world'\n",
        "my_list = ['my','list',a,b]\n",
        "my_list2 =[ [4,5,6,7], [3,4,5,6]]\n",
        "print(a,b)\n",
        "print(my_list)\n",
        "print(my_list2)"
      ],
      "metadata": {
        "colab": {
          "base_uri": "https://localhost:8080/"
        },
        "id": "vstJjsmKUktK",
        "outputId": "dc45181e-c38c-4f07-8066-9616f32f65f5"
      },
      "execution_count": null,
      "outputs": [
        {
          "output_type": "stream",
          "name": "stdout",
          "text": [
            "hello world\n",
            "['my', 'list', 'hello', 'world']\n",
            "[[4, 5, 6, 7], [3, 4, 5, 6]]\n"
          ]
        }
      ]
    },
    {
      "cell_type": "code",
      "source": [
        "x = [] #empty list\n"
      ],
      "metadata": {
        "id": "gsxPdyDwWj8S"
      },
      "execution_count": null,
      "outputs": []
    },
    {
      "cell_type": "code",
      "source": [
        "x = [1,2,3]\n",
        "y = [10,20,30]\n",
        "z = [x,y] #to include 2 lsits seperated by comma\n",
        "print (z)\n",
        "u = x + y # to concatenate two lists\n",
        "print (u)"
      ],
      "metadata": {
        "colab": {
          "base_uri": "https://localhost:8080/"
        },
        "id": "FNSO3074Xw6R",
        "outputId": "1f253c8f-2831-49c5-a5e9-fbfe78fe6b4c"
      },
      "execution_count": null,
      "outputs": [
        {
          "output_type": "stream",
          "name": "stdout",
          "text": [
            "[[1, 2, 3], [10, 20, 30]]\n",
            "[1, 2, 3, 10, 20, 30]\n"
          ]
        }
      ]
    },
    {
      "cell_type": "markdown",
      "source": [
        "## Accessing the elements of the list"
      ],
      "metadata": {
        "id": "oa-4F8vYYaNA"
      }
    },
    {
      "cell_type": "code",
      "source": [
        "#select 0th element of the list x\n",
        "print (x)\n",
        "x[0]\n"
      ],
      "metadata": {
        "colab": {
          "base_uri": "https://localhost:8080/"
        },
        "id": "mrim9M7CYZn6",
        "outputId": "c90e9e90-06cd-4c3f-965e-58eb0ad1d78a"
      },
      "execution_count": null,
      "outputs": [
        {
          "output_type": "stream",
          "name": "stdout",
          "text": [
            "[1, 2, 3]\n"
          ]
        },
        {
          "output_type": "execute_result",
          "data": {
            "text/plain": [
              "1"
            ]
          },
          "metadata": {},
          "execution_count": 26
        }
      ]
    },
    {
      "cell_type": "code",
      "source": [
        "#select last element of the list x\n",
        "print (x)\n",
        "x[-1]"
      ],
      "metadata": {
        "colab": {
          "base_uri": "https://localhost:8080/"
        },
        "id": "zT5GYVwtY5tL",
        "outputId": "f95835c3-6c1f-4e3a-d5b1-815e9046ce00"
      },
      "execution_count": null,
      "outputs": [
        {
          "output_type": "stream",
          "name": "stdout",
          "text": [
            "[1, 2, 3]\n"
          ]
        },
        {
          "output_type": "execute_result",
          "data": {
            "text/plain": [
              "3"
            ]
          },
          "metadata": {},
          "execution_count": 27
        }
      ]
    },
    {
      "cell_type": "code",
      "source": [
        "#slect 1st inclusive and 3rd exclusivee\n",
        "x[1:3] # in the range first value is included while the last value is excluded"
      ],
      "metadata": {
        "colab": {
          "base_uri": "https://localhost:8080/"
        },
        "id": "MWXzS1mtZLvB",
        "outputId": "9f5c8bef-439f-4f68-d1b5-b96093eea432"
      },
      "execution_count": null,
      "outputs": [
        {
          "output_type": "execute_result",
          "data": {
            "text/plain": [
              "[2, 3]"
            ]
          },
          "metadata": {},
          "execution_count": 30
        }
      ]
    },
    {
      "cell_type": "code",
      "source": [
        "# select 2nd to end of x1: ['a' , 'b' , 'c' , 'd' , 'e']\n",
        "x[2:]"
      ],
      "metadata": {
        "colab": {
          "base_uri": "https://localhost:8080/"
        },
        "id": "y70BWY2RaJz6",
        "outputId": "f384ad98-3438-4999-98d8-00b616c6487f"
      },
      "execution_count": null,
      "outputs": [
        {
          "output_type": "execute_result",
          "data": {
            "text/plain": [
              "[3]"
            ]
          },
          "metadata": {},
          "execution_count": 36
        }
      ]
    },
    {
      "cell_type": "code",
      "source": [
        "# select 2nd to end of x: ['a' , 'b' , 'c' , 'd' , 'e']\n",
        "x[:3]"
      ],
      "metadata": {
        "id": "aDeLVZJ0bvzS",
        "outputId": "a8b4aa4b-ca47-4e0b-d1c0-f67158964870",
        "colab": {
          "base_uri": "https://localhost:8080/"
        }
      },
      "execution_count": null,
      "outputs": [
        {
          "output_type": "execute_result",
          "data": {
            "text/plain": [
              "[1, 2, 3]"
            ]
          },
          "metadata": {},
          "execution_count": 38
        }
      ]
    },
    {
      "cell_type": "markdown",
      "source": [
        "#OPERATIONS"
      ],
      "metadata": {
        "id": "WYbHGX_rapS1"
      }
    },
    {
      "cell_type": "code",
      "source": [
        "22/7 # Dividing using /"
      ],
      "metadata": {
        "colab": {
          "base_uri": "https://localhost:8080/"
        },
        "id": "SaTFMQw6bHDV",
        "outputId": "c67d1074-6fed-4f83-bc5a-02753a6b50b4"
      },
      "execution_count": null,
      "outputs": [
        {
          "output_type": "execute_result",
          "data": {
            "text/plain": [
              "3.142857142857143"
            ]
          },
          "metadata": {},
          "execution_count": 3
        }
      ]
    },
    {
      "cell_type": "code",
      "source": [
        "22//7 # Integer divide a number with //"
      ],
      "metadata": {
        "colab": {
          "base_uri": "https://localhost:8080/"
        },
        "id": "zqJRxe8OaouG",
        "outputId": "a488d99f-a21a-439c-96e5-1d41319ff680"
      },
      "execution_count": null,
      "outputs": [
        {
          "output_type": "execute_result",
          "data": {
            "text/plain": [
              "3"
            ]
          },
          "metadata": {},
          "execution_count": 1
        }
      ]
    },
    {
      "cell_type": "code",
      "source": [
        "22 % 7 # It is mod operator"
      ],
      "metadata": {
        "colab": {
          "base_uri": "https://localhost:8080/"
        },
        "id": "YtehhNe7a9wU",
        "outputId": "a5abdcba-6ed6-4dbc-c6fe-943bb58e0b65"
      },
      "execution_count": null,
      "outputs": [
        {
          "output_type": "execute_result",
          "data": {
            "text/plain": [
              "1"
            ]
          },
          "metadata": {},
          "execution_count": 2
        }
      ]
    },
    {
      "cell_type": "code",
      "source": [
        "#assignment statement\n",
        "a = 5 #assign a value to a\n",
        "print (a)\n",
        "x=[10,20,30]\n",
        "x[0] = 1 #change the value of the item in the list.\n",
        "print (x)"
      ],
      "metadata": {
        "colab": {
          "base_uri": "https://localhost:8080/"
        },
        "id": "jDyUnjZocBm1",
        "outputId": "452c5fe7-6ffa-4c97-a5b4-086c9e0970cd"
      },
      "execution_count": null,
      "outputs": [
        {
          "output_type": "stream",
          "name": "stdout",
          "text": [
            "5\n",
            "[1, 20, 30]\n"
          ]
        }
      ]
    },
    {
      "cell_type": "markdown",
      "source": [
        "###RELATIONAL"
      ],
      "metadata": {
        "id": "NgXaSS7UeYy-"
      }
    },
    {
      "cell_type": "code",
      "source": [
        "# RELATIONAL OPERATORS IN PYTHON\n",
        "3 == 3 #Test for equality wit ==\n",
        "3!=3 #test for inequalitu with !=\n",
        "3 > 1 # tets greater than with >\n",
        "3 >= 3 # test greater than or equal to\n",
        "3 < 4 # test less than with<\n",
        "3<= 4 # test less than or equal to with <="
      ],
      "metadata": {
        "colab": {
          "base_uri": "https://localhost:8080/"
        },
        "id": "4K2A1xOJeXS_",
        "outputId": "07f6b454-f7bc-4ccc-f777-5a7b1e9e1a0a"
      },
      "execution_count": null,
      "outputs": [
        {
          "output_type": "execute_result",
          "data": {
            "text/plain": [
              "True"
            ]
          },
          "metadata": {},
          "execution_count": 9
        }
      ]
    },
    {
      "cell_type": "code",
      "source": [
        "4 ==4"
      ],
      "metadata": {
        "colab": {
          "base_uri": "https://localhost:8080/"
        },
        "id": "tC7YwdYWfeLu",
        "outputId": "33a8197d-2c43-4cb5-a07b-e77046965cbd"
      },
      "execution_count": null,
      "outputs": [
        {
          "output_type": "execute_result",
          "data": {
            "text/plain": [
              "True"
            ]
          },
          "metadata": {},
          "execution_count": 10
        }
      ]
    },
    {
      "cell_type": "code",
      "source": [
        "not (2==2)\n",
        "(1 != 1) and (1 < 1)\n",
        "(1 >= 1) or (1 < 1)"
      ],
      "metadata": {
        "colab": {
          "base_uri": "https://localhost:8080/"
        },
        "id": "9o-qn9yXgT0u",
        "outputId": "2530c271-0e1a-4e56-807e-567624704f53"
      },
      "execution_count": null,
      "outputs": [
        {
          "output_type": "execute_result",
          "data": {
            "text/plain": [
              "True"
            ]
          },
          "metadata": {},
          "execution_count": 14
        }
      ]
    },
    {
      "cell_type": "code",
      "source": [
        "my_dict = {\"name\" : \"Nandana\", \"age\" : 19, \"Grade\" : \"pass\"}\n",
        "my_dict"
      ],
      "metadata": {
        "colab": {
          "base_uri": "https://localhost:8080/"
        },
        "id": "fCGrKu4YgqDm",
        "outputId": "4cc4de53-4ef4-44d9-98b2-9b728a6343e2"
      },
      "execution_count": null,
      "outputs": [
        {
          "output_type": "execute_result",
          "data": {
            "text/plain": [
              "{'name': 'Nandana', 'age': 19, 'Grade': 'pass'}"
            ]
          },
          "metadata": {},
          "execution_count": 15
        }
      ]
    },
    {
      "cell_type": "code",
      "source": [
        "my_list = ['a', 'e', 'i', 'o', 'u']\n",
        "print(my_list.index('e'))\n",
        "print(my_list.index('i'))"
      ],
      "metadata": {
        "colab": {
          "base_uri": "https://localhost:8080/"
        },
        "id": "dyYKJ2O6mv-u",
        "outputId": "0cd9c585-5e2e-437d-94df-ac78cf3cb6f3"
      },
      "execution_count": null,
      "outputs": [
        {
          "output_type": "stream",
          "name": "stdout",
          "text": [
            "1\n",
            "2\n"
          ]
        }
      ]
    },
    {
      "cell_type": "code",
      "source": [
        "my_list.count('a')"
      ],
      "metadata": {
        "colab": {
          "base_uri": "https://localhost:8080/"
        },
        "id": "IKGmZPIQnPin",
        "outputId": "26bef45f-f64e-4e9b-cce7-fd9c13d3d563"
      },
      "execution_count": null,
      "outputs": [
        {
          "output_type": "execute_result",
          "data": {
            "text/plain": [
              "1"
            ]
          },
          "metadata": {},
          "execution_count": 17
        }
      ]
    },
    {
      "cell_type": "code",
      "source": [
        "my_list.append('!')\n",
        "my_list"
      ],
      "metadata": {
        "colab": {
          "base_uri": "https://localhost:8080/"
        },
        "id": "fUkFvrm8nWzn",
        "outputId": "aed7fda0-25dd-4c8c-858c-ff93e6a7d955"
      },
      "execution_count": null,
      "outputs": [
        {
          "output_type": "execute_result",
          "data": {
            "text/plain": [
              "['a', 'e', 'i', 'o', 'u', '!', '!']"
            ]
          },
          "metadata": {},
          "execution_count": 22
        }
      ]
    },
    {
      "cell_type": "code",
      "source": [
        "my_list.remove('!')\n",
        "my_list"
      ],
      "metadata": {
        "colab": {
          "base_uri": "https://localhost:8080/"
        },
        "id": "unlo1iVonffX",
        "outputId": "a69eb04d-ba7a-4127-bff0-5f60e0d52f66"
      },
      "execution_count": null,
      "outputs": [
        {
          "output_type": "execute_result",
          "data": {
            "text/plain": [
              "['a', 'e', 'i', 'o', 'u']"
            ]
          },
          "metadata": {},
          "execution_count": 24
        }
      ]
    },
    {
      "cell_type": "code",
      "source": [
        "del (my_list[0:1])\n"
      ],
      "metadata": {
        "id": "_GkqGqagnkAX"
      },
      "execution_count": null,
      "outputs": []
    },
    {
      "cell_type": "code",
      "source": [
        "my_list"
      ],
      "metadata": {
        "colab": {
          "base_uri": "https://localhost:8080/"
        },
        "id": "m9HmKfpdoEfH",
        "outputId": "ac678a03-31a0-44d3-9322-61c29771c5ce"
      },
      "execution_count": null,
      "outputs": [
        {
          "output_type": "execute_result",
          "data": {
            "text/plain": [
              "['e', 'i', 'o', 'u']"
            ]
          },
          "metadata": {},
          "execution_count": 26
        }
      ]
    },
    {
      "cell_type": "code",
      "source": [
        "my_list.reverse()\n"
      ],
      "metadata": {
        "id": "dJ2PHqYCokW4"
      },
      "execution_count": null,
      "outputs": []
    },
    {
      "cell_type": "code",
      "source": [
        "my_list"
      ],
      "metadata": {
        "colab": {
          "base_uri": "https://localhost:8080/"
        },
        "id": "gzc7B9m8ozFe",
        "outputId": "1b360a76-5f28-4a53-8b43-c1ca2e5e51da"
      },
      "execution_count": null,
      "outputs": [
        {
          "output_type": "execute_result",
          "data": {
            "text/plain": [
              "['u', 'o', 'i', 'e']"
            ]
          },
          "metadata": {},
          "execution_count": 30
        }
      ]
    },
    {
      "cell_type": "code",
      "source": [
        "my_list.extend('!')"
      ],
      "metadata": {
        "id": "qNEhhdfvo0o-"
      },
      "execution_count": null,
      "outputs": []
    },
    {
      "cell_type": "code",
      "source": [
        "my_list"
      ],
      "metadata": {
        "colab": {
          "base_uri": "https://localhost:8080/"
        },
        "id": "bmp8TWRGo5mu",
        "outputId": "a9c3998d-fbf8-4e4a-d592-6c3c45ff17fb"
      },
      "execution_count": null,
      "outputs": [
        {
          "output_type": "execute_result",
          "data": {
            "text/plain": [
              "['u', 'o', 'i', 'e', '!']"
            ]
          },
          "metadata": {},
          "execution_count": 32
        }
      ]
    },
    {
      "cell_type": "code",
      "source": [
        "my_list.pop(-1)"
      ],
      "metadata": {
        "colab": {
          "base_uri": "https://localhost:8080/",
          "height": 35
        },
        "id": "abq4CH9Io8b4",
        "outputId": "6b1c6d01-9056-46ad-d508-823c47688c8b"
      },
      "execution_count": null,
      "outputs": [
        {
          "output_type": "execute_result",
          "data": {
            "text/plain": [
              "'!'"
            ],
            "application/vnd.google.colaboratory.intrinsic+json": {
              "type": "string"
            }
          },
          "metadata": {},
          "execution_count": 33
        }
      ]
    },
    {
      "cell_type": "code",
      "source": [
        "my_list"
      ],
      "metadata": {
        "colab": {
          "base_uri": "https://localhost:8080/"
        },
        "id": "VaEvSJnFo8Ln",
        "outputId": "67668a9a-cb09-48a8-fb58-0eb1997dd5a1"
      },
      "execution_count": null,
      "outputs": [
        {
          "output_type": "execute_result",
          "data": {
            "text/plain": [
              "['u', 'o', 'i', 'e']"
            ]
          },
          "metadata": {},
          "execution_count": 34
        }
      ]
    },
    {
      "cell_type": "code",
      "source": [
        "my_list.insert( 0 ,'!')\n"
      ],
      "metadata": {
        "id": "Pc2h6wtPpCym"
      },
      "execution_count": null,
      "outputs": []
    },
    {
      "cell_type": "code",
      "source": [
        "my_list"
      ],
      "metadata": {
        "colab": {
          "base_uri": "https://localhost:8080/"
        },
        "id": "4cbMO8S5pU6X",
        "outputId": "43c7a663-bd19-4ce5-b672-f60788597439"
      },
      "execution_count": null,
      "outputs": [
        {
          "output_type": "execute_result",
          "data": {
            "text/plain": [
              "['!', '!', '!', 'u', 'o', 'i', 'e']"
            ]
          },
          "metadata": {},
          "execution_count": 40
        }
      ]
    },
    {
      "cell_type": "code",
      "source": [
        "my_list.sort()"
      ],
      "metadata": {
        "id": "YjXSnQcRpXxu"
      },
      "execution_count": null,
      "outputs": []
    },
    {
      "cell_type": "code",
      "source": [
        "my_list"
      ],
      "metadata": {
        "colab": {
          "base_uri": "https://localhost:8080/"
        },
        "id": "NZ75sU6upbBw",
        "outputId": "aabef3e7-640b-42a5-95ec-17fb46362ac3"
      },
      "execution_count": null,
      "outputs": [
        {
          "output_type": "execute_result",
          "data": {
            "text/plain": [
              "['!', '!', '!', 'e', 'i', 'o', 'u']"
            ]
          },
          "metadata": {},
          "execution_count": 42
        }
      ]
    },
    {
      "cell_type": "markdown",
      "source": [
        "##TEXT"
      ],
      "metadata": {
        "id": "zfeGhxCJtY6B"
      }
    },
    {
      "cell_type": "code",
      "source": [
        "my_string = \"welcome\"\n",
        "my_string"
      ],
      "metadata": {
        "colab": {
          "base_uri": "https://localhost:8080/",
          "height": 35
        },
        "id": "KPpnmzWZtdcv",
        "outputId": "44a3da54-79da-479c-c629-4d75a92b1f28"
      },
      "execution_count": null,
      "outputs": [
        {
          "output_type": "execute_result",
          "data": {
            "text/plain": [
              "'welcome'"
            ],
            "application/vnd.google.colaboratory.intrinsic+json": {
              "type": "string"
            }
          },
          "metadata": {},
          "execution_count": 43
        }
      ]
    },
    {
      "cell_type": "code",
      "source": [
        "my_string [4:9]\n"
      ],
      "metadata": {
        "colab": {
          "base_uri": "https://localhost:8080/",
          "height": 35
        },
        "id": "z8axlcqAuzSg",
        "outputId": "0c4357d9-6ba7-46bc-f144-ee5bff5abafe"
      },
      "execution_count": null,
      "outputs": [
        {
          "output_type": "execute_result",
          "data": {
            "text/plain": [
              "'ome'"
            ],
            "application/vnd.google.colaboratory.intrinsic+json": {
              "type": "string"
            }
          },
          "metadata": {},
          "execution_count": 44
        }
      ]
    },
    {
      "cell_type": "markdown",
      "source": [
        "#List Processesing"
      ],
      "metadata": {
        "id": "Y0TJpOyBddSO"
      }
    },
    {
      "cell_type": "markdown",
      "source": [
        "steps:\n",
        "1. Create an empty result list\n",
        "2. keepa a total variable starting at 0\n",
        "3. loop thru each no.\n",
        "4. add to total,append total to result."
      ],
      "metadata": {
        "id": "mcE1ndVWeZ7_"
      }
    },
    {
      "cell_type": "code",
      "source": [
        "#running sum\n",
        "def runningSum(nums):\n",
        "  result = []\n",
        "  total = 0\n",
        "  for n in nums:\n",
        "    total += n\n",
        "    result.append(total)\n",
        "  return(result)\n",
        "print(runningSum([10,20,25,1]))"
      ],
      "metadata": {
        "colab": {
          "base_uri": "https://localhost:8080/"
        },
        "id": "-rwTvkewf1_P",
        "outputId": "ec9d5dde-9f2e-4fe3-a08e-965b566c6f39"
      },
      "execution_count": null,
      "outputs": [
        {
          "output_type": "stream",
          "name": "stdout",
          "text": [
            "[10, 30, 55, 56]\n"
          ]
        }
      ]
    },
    {
      "cell_type": "code",
      "source": [
        "def Sum(nums):\n",
        "  result = 0\n",
        "  for n in nums:\n",
        "    result += n\n",
        "  return(result)\n",
        "print(Sum([10,20,25,1]))"
      ],
      "metadata": {
        "colab": {
          "base_uri": "https://localhost:8080/"
        },
        "id": "csbI3_E_h5vY",
        "outputId": "430ce774-693c-4c41-ceaa-c87fa2338ef6"
      },
      "execution_count": null,
      "outputs": [
        {
          "output_type": "stream",
          "name": "stdout",
          "text": [
            "56\n"
          ]
        }
      ]
    },
    {
      "cell_type": "code",
      "source": [
        "def CountEven(nums):\n",
        "  count = 0\n",
        "  for n in nums:\n",
        "    if n % 2 == 0:\n",
        "           count += 1\n",
        "  return count\n",
        "print(CountEven([10,20,25,1]))"
      ],
      "metadata": {
        "colab": {
          "base_uri": "https://localhost:8080/"
        },
        "id": "_9-VhJIUjT8u",
        "outputId": "1a936b28-db5e-4d49-dde1-7dea0aafa80e"
      },
      "execution_count": null,
      "outputs": [
        {
          "output_type": "stream",
          "name": "stdout",
          "text": [
            "2\n"
          ]
        }
      ]
    },
    {
      "cell_type": "code",
      "source": [
        "def reverseList(nums):\n",
        "  return nums[:: -1]\n",
        "print(reverseList([10,20,25,1]))"
      ],
      "metadata": {
        "colab": {
          "base_uri": "https://localhost:8080/"
        },
        "id": "OmiC784dk11_",
        "outputId": "846538a6-e96b-419a-80c2-4296caa673c7"
      },
      "execution_count": null,
      "outputs": [
        {
          "output_type": "stream",
          "name": "stdout",
          "text": [
            "[1, 25, 20, 10]\n"
          ]
        }
      ]
    },
    {
      "cell_type": "code",
      "source": [
        "def FindMax(nums):\n",
        "  max_num = nums[0]\n",
        "  for n in nums:\n",
        "    if n > max_num:\n",
        "      max_num = n\n",
        "  return max_num\n",
        "print(FindMax([10,20,25,1]))"
      ],
      "metadata": {
        "colab": {
          "base_uri": "https://localhost:8080/"
        },
        "id": "2w7RKPx-obz-",
        "outputId": "f0a91816-bebf-4781-8a41-740fe7bb7292"
      },
      "execution_count": null,
      "outputs": [
        {
          "output_type": "stream",
          "name": "stdout",
          "text": [
            "25\n"
          ]
        }
      ]
    },
    {
      "cell_type": "code",
      "source": [
        "def FindMin(nums):\n",
        "  min_num = nums[-1]\n",
        "  for n in nums:\n",
        "    if n < min_num:\n",
        "      min_num = n\n",
        "  return min_num\n",
        "print(FindMin([10,20,25,1]))"
      ],
      "metadata": {
        "colab": {
          "base_uri": "https://localhost:8080/"
        },
        "id": "OiRCSEVApuw2",
        "outputId": "6edcf8ae-6094-4712-fb38-51c9aa894786"
      },
      "execution_count": null,
      "outputs": [
        {
          "output_type": "stream",
          "name": "stdout",
          "text": [
            "1\n"
          ]
        }
      ]
    },
    {
      "cell_type": "code",
      "source": [
        "def MergeList(list1, list2):\n",
        "  return sorted(list1 + list2)\n",
        "\n",
        "print(MergeList([10,20,25,1],[12,22,1,4]))"
      ],
      "metadata": {
        "colab": {
          "base_uri": "https://localhost:8080/"
        },
        "id": "ACGcwUT0riO-",
        "outputId": "b54486a8-569f-4d6f-849e-4a4dadc9c75e"
      },
      "execution_count": null,
      "outputs": [
        {
          "output_type": "stream",
          "name": "stdout",
          "text": [
            "[1, 1, 4, 10, 12, 20, 22, 25]\n"
          ]
        }
      ]
    },
    {
      "cell_type": "code",
      "source": [
        "def SortedSquare(nums):\n",
        "  return sorted([x**2 for x in nums])\n",
        "print(SortedSquare([10,20,25,1]))"
      ],
      "metadata": {
        "colab": {
          "base_uri": "https://localhost:8080/"
        },
        "id": "3ZWjI6Y3sD2m",
        "outputId": "2ce41141-6a41-4f5c-f852-682c83ec118f"
      },
      "execution_count": null,
      "outputs": [
        {
          "output_type": "stream",
          "name": "stdout",
          "text": [
            "[1, 100, 400, 625]\n"
          ]
        }
      ]
    },
    {
      "cell_type": "code",
      "source": [
        "def MaxDeposit(accounts):\n",
        "  return max(sum(cust) for cust in accounts)\n",
        "print(MaxDeposit([[10,20],[25,1]]))"
      ],
      "metadata": {
        "colab": {
          "base_uri": "https://localhost:8080/"
        },
        "id": "WHfqVDD8tNt-",
        "outputId": "9e0cf6cd-c715-4384-8b0f-aba401b8d99c"
      },
      "execution_count": null,
      "outputs": [
        {
          "output_type": "stream",
          "name": "stdout",
          "text": [
            "30\n"
          ]
        }
      ]
    },
    {
      "cell_type": "code",
      "source": [
        "#find 2 indices where numbers add up to the target\n",
        "def twosums(nums, target):\n",
        "  seen = {}\n",
        "  for i, n in enumerate(nums):\n",
        "    diff = target - n\n",
        "    if diff in seen:\n",
        "      return [seen[diff], i]\n",
        "    seen[n] = i\n",
        "\n",
        "print(twosums([24,11,15], 26))"
      ],
      "metadata": {
        "colab": {
          "base_uri": "https://localhost:8080/"
        },
        "id": "Xvw60GvTv1kO",
        "outputId": "b00b893d-7fa0-49c4-e74c-4b4df3c0391e"
      },
      "execution_count": null,
      "outputs": [
        {
          "output_type": "stream",
          "name": "stdout",
          "text": [
            "[1, 2]\n"
          ]
        }
      ]
    },
    {
      "cell_type": "markdown",
      "source": [
        "#DAY 4"
      ],
      "metadata": {
        "id": "kvBTWreKgW_a"
      }
    },
    {
      "cell_type": "markdown",
      "source": [
        "######Menu driven grocery store datas"
      ],
      "metadata": {
        "id": "0Ge8PO4ogeHw"
      }
    },
    {
      "cell_type": "code",
      "source": [],
      "metadata": {
        "id": "Q-GNyhwByNyl"
      },
      "execution_count": null,
      "outputs": []
    }
  ]
}