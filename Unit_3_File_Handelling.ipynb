{
  "nbformat": 4,
  "nbformat_minor": 0,
  "metadata": {
    "colab": {
      "provenance": [],
      "authorship_tag": "ABX9TyO06XGh3/N2rmZP134PH6PM",
      "include_colab_link": true
    },
    "kernelspec": {
      "name": "python3",
      "display_name": "Python 3"
    },
    "language_info": {
      "name": "python"
    }
  },
  "cells": [
    {
      "cell_type": "markdown",
      "metadata": {
        "id": "view-in-github",
        "colab_type": "text"
      },
      "source": [
        "<a href=\"https://colab.research.google.com/github/NandanaNair05/python-codes/blob/main/Unit_3_File_Handelling.ipynb\" target=\"_parent\"><img src=\"https://colab.research.google.com/assets/colab-badge.svg\" alt=\"Open In Colab\"/></a>"
      ]
    },
    {
      "cell_type": "code",
      "execution_count": 8,
      "metadata": {
        "colab": {
          "base_uri": "https://localhost:8080/"
        },
        "id": "tYvC_wiDz_jv",
        "outputId": "1be1ea60-f3ae-4b76-c7d0-56635fb4960c"
      },
      "outputs": [
        {
          "output_type": "stream",
          "name": "stdout",
          "text": [
            "=== Example 1: Read Entire File ===\n",
            "python\n"
          ]
        }
      ],
      "source": [
        "file_path = r\"/content/python.txt\"\n",
        "print(\"=== Example 1: Read Entire File ===\")\n",
        "with open(file_path, \"r\") as file:\n",
        "  content = file.read()\n",
        "  print(content)"
      ]
    },
    {
      "cell_type": "code",
      "metadata": {
        "colab": {
          "base_uri": "https://localhost:8080/"
        },
        "id": "9e3fe6da",
        "outputId": "0285ca28-def9-4739-93ae-7e75107f43d7"
      },
      "source": [
        "file_path = r\"/content/python.txt\"\n",
        "print(\"=== Example: Print First Line ===\")\n",
        "try:\n",
        "  with open(file_path, \"r\") as file:\n",
        "    lines = file.readlines()\n",
        "    if len(lines) >= 1:\n",
        "      print(lines[0])\n",
        "    else:\n",
        "      print(\"The file is empty.\")\n",
        "except FileNotFoundError:\n",
        "  print(f\"Error: File '{file_path}' not found. Please make sure the file exists at this path.\")"
      ],
      "execution_count": 14,
      "outputs": [
        {
          "output_type": "stream",
          "name": "stdout",
          "text": [
            "=== Example: Print First Line ===\n",
            "python\n"
          ]
        }
      ]
    },
    {
      "cell_type": "code",
      "source": [
        "file_path = r\"/content/python.txt\"\n",
        "\n",
        "with open(file_path, \"a\") as file:\n",
        "  file.write(\"This line is appeneded later. \\n\")\n",
        "\n",
        "print(\"New line appeneded successfully!\")"
      ],
      "metadata": {
        "colab": {
          "base_uri": "https://localhost:8080/"
        },
        "id": "PKj9DQfdATyB",
        "outputId": "a87ac60d-bbbd-4db1-fe5c-44f4acddc6b1"
      },
      "execution_count": 16,
      "outputs": [
        {
          "output_type": "stream",
          "name": "stdout",
          "text": [
            "New line appeneded successfully!\n"
          ]
        }
      ]
    }
  ]
}